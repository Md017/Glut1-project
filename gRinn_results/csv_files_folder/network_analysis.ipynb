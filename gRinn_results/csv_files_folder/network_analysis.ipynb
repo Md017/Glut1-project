{
  "nbformat": 4,
  "nbformat_minor": 0,
  "metadata": {
    "colab": {
      "name": "network_analysis.ipynb",
      "provenance": [],
      "collapsed_sections": []
    },
    "kernelspec": {
      "name": "python3",
      "display_name": "Python 3"
    },
    "language_info": {
      "name": "python"
    }
  },
  "cells": [
    {
      "cell_type": "markdown",
      "metadata": {
        "id": "DSiJf-Jb-Zpa"
      },
      "source": [
        "#Importing libraries"
      ]
    },
    {
      "cell_type": "code",
      "metadata": {
        "id": "jjNQ-HLqKimg"
      },
      "source": [
        "\n",
        "import numpy as np # linear algebra\n",
        "import pandas as pd # data processing, CSV file I/O (e.g. pd.read_csv)\n",
        "import matplotlib.pyplot as plt\n",
        "import seaborn as sns # visualization tool\n",
        "from google.colab import files\n",
        "import networkx as nx \n",
        "\n",
        "\n",
        "\n"
      ],
      "execution_count": 3,
      "outputs": []
    },
    {
      "cell_type": "markdown",
      "metadata": {
        "id": "2IOMsAUe-jT7"
      },
      "source": [
        "uploading the data"
      ]
    },
    {
      "cell_type": "code",
      "metadata": {
        "colab": {
          "resources": {
            "http://localhost:8080/nbextensions/google.colab/files.js": {
              "data": "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",
              "ok": true,
              "headers": [
                [
                  "content-type",
                  "application/javascript"
                ]
              ],
              "status": 200,
              "status_text": "OK"
            }
          },
          "base_uri": "https://localhost:8080/",
          "height": 73
        },
        "id": "ViiXO6hxVpER",
        "outputId": "c54cb167-2abe-4cc1-f39d-b81b5eb51636"
      },
      "source": [
        "uploaded = files.upload()"
      ],
      "execution_count": 15,
      "outputs": [
        {
          "output_type": "display_data",
          "data": {
            "text/html": [
              "\n",
              "     <input type=\"file\" id=\"files-68ab2061-c809-4636-b4a4-3e6cd8365ce3\" name=\"files[]\" multiple disabled\n",
              "        style=\"border:none\" />\n",
              "     <output id=\"result-68ab2061-c809-4636-b4a4-3e6cd8365ce3\">\n",
              "      Upload widget is only available when the cell has been executed in the\n",
              "      current browser session. Please rerun this cell to enable.\n",
              "      </output>\n",
              "      <script src=\"/nbextensions/google.colab/files.js\"></script> "
            ],
            "text/plain": [
              "<IPython.core.display.HTML object>"
            ]
          },
          "metadata": {}
        },
        {
          "output_type": "stream",
          "text": [
            "Saving cl27_RM.csv to cl27_RM.csv\n"
          ],
          "name": "stdout"
        }
      ]
    },
    {
      "cell_type": "markdown",
      "metadata": {
        "id": "RflZjHfO-p6v"
      },
      "source": [
        "reading and cleaning data"
      ]
    },
    {
      "cell_type": "markdown",
      "metadata": {
        "id": "Df4jqbmf-poV"
      },
      "source": [
        ""
      ]
    },
    {
      "cell_type": "code",
      "metadata": {
        "id": "oqvg-JsvXMHU",
        "colab": {
          "base_uri": "https://localhost:8080/",
          "height": 424
        },
        "outputId": "4d72d188-3a3a-48c6-b422-87726538a7b2"
      },
      "source": [
        "data = pd.read_csv('cl27_RM.csv')\n",
        "del data[\"Unnamed: 0\"]\n",
        "del data[\"Index\"]\n",
        "#data\n",
        "\n",
        "#deleting first character(P) of the residues' names\n",
        "res_list = []\n",
        "\n",
        "for c in data[\"Residue\"]:\n",
        "  res_list.append(c[1::])\n",
        "\n",
        "#print(res_list)\n",
        "data[\"Residue\"] = res_list\n",
        "data\n",
        "\n",
        "\n",
        "\n",
        "\n"
      ],
      "execution_count": 17,
      "outputs": [
        {
          "output_type": "execute_result",
          "data": {
            "text/html": [
              "<div>\n",
              "<style scoped>\n",
              "    .dataframe tbody tr th:only-of-type {\n",
              "        vertical-align: middle;\n",
              "    }\n",
              "\n",
              "    .dataframe tbody tr th {\n",
              "        vertical-align: top;\n",
              "    }\n",
              "\n",
              "    .dataframe thead th {\n",
              "        text-align: right;\n",
              "    }\n",
              "</style>\n",
              "<table border=\"1\" class=\"dataframe\">\n",
              "  <thead>\n",
              "    <tr style=\"text-align: right;\">\n",
              "      <th></th>\n",
              "      <th>Residue</th>\n",
              "      <th>Degree</th>\n",
              "      <th>Betweenness-centrality</th>\n",
              "      <th>Closeness-centrality</th>\n",
              "    </tr>\n",
              "  </thead>\n",
              "  <tbody>\n",
              "    <tr>\n",
              "      <th>0</th>\n",
              "      <td>THR9</td>\n",
              "      <td>4</td>\n",
              "      <td>0.000000</td>\n",
              "      <td>0.199740</td>\n",
              "    </tr>\n",
              "    <tr>\n",
              "      <th>1</th>\n",
              "      <td>GLY10</td>\n",
              "      <td>5</td>\n",
              "      <td>0.001056</td>\n",
              "      <td>0.196551</td>\n",
              "    </tr>\n",
              "    <tr>\n",
              "      <th>2</th>\n",
              "      <td>ARG11</td>\n",
              "      <td>5</td>\n",
              "      <td>0.000856</td>\n",
              "      <td>0.203635</td>\n",
              "    </tr>\n",
              "    <tr>\n",
              "      <th>3</th>\n",
              "      <td>LEU12</td>\n",
              "      <td>8</td>\n",
              "      <td>0.004053</td>\n",
              "      <td>0.223105</td>\n",
              "    </tr>\n",
              "    <tr>\n",
              "      <th>4</th>\n",
              "      <td>MET13</td>\n",
              "      <td>6</td>\n",
              "      <td>0.003311</td>\n",
              "      <td>0.218087</td>\n",
              "    </tr>\n",
              "    <tr>\n",
              "      <th>...</th>\n",
              "      <td>...</td>\n",
              "      <td>...</td>\n",
              "      <td>...</td>\n",
              "      <td>...</td>\n",
              "    </tr>\n",
              "    <tr>\n",
              "      <th>455</th>\n",
              "      <td>ALA464</td>\n",
              "      <td>7</td>\n",
              "      <td>0.000105</td>\n",
              "      <td>0.192306</td>\n",
              "    </tr>\n",
              "    <tr>\n",
              "      <th>456</th>\n",
              "      <td>SER465</td>\n",
              "      <td>4</td>\n",
              "      <td>0.000000</td>\n",
              "      <td>0.185100</td>\n",
              "    </tr>\n",
              "    <tr>\n",
              "      <th>457</th>\n",
              "      <td>GLY466</td>\n",
              "      <td>6</td>\n",
              "      <td>0.002559</td>\n",
              "      <td>0.204569</td>\n",
              "    </tr>\n",
              "    <tr>\n",
              "      <th>458</th>\n",
              "      <td>PHE467</td>\n",
              "      <td>9</td>\n",
              "      <td>0.007782</td>\n",
              "      <td>0.219188</td>\n",
              "    </tr>\n",
              "    <tr>\n",
              "      <th>459</th>\n",
              "      <td>ARG468</td>\n",
              "      <td>5</td>\n",
              "      <td>0.000447</td>\n",
              "      <td>0.200593</td>\n",
              "    </tr>\n",
              "  </tbody>\n",
              "</table>\n",
              "<p>460 rows × 4 columns</p>\n",
              "</div>"
            ],
            "text/plain": [
              "    Residue  Degree  Betweenness-centrality  Closeness-centrality\n",
              "0      THR9       4                0.000000              0.199740\n",
              "1     GLY10       5                0.001056              0.196551\n",
              "2     ARG11       5                0.000856              0.203635\n",
              "3     LEU12       8                0.004053              0.223105\n",
              "4     MET13       6                0.003311              0.218087\n",
              "..      ...     ...                     ...                   ...\n",
              "455  ALA464       7                0.000105              0.192306\n",
              "456  SER465       4                0.000000              0.185100\n",
              "457  GLY466       6                0.002559              0.204569\n",
              "458  PHE467       9                0.007782              0.219188\n",
              "459  ARG468       5                0.000447              0.200593\n",
              "\n",
              "[460 rows x 4 columns]"
            ]
          },
          "metadata": {},
          "execution_count": 17
        }
      ]
    },
    {
      "cell_type": "code",
      "metadata": {
        "id": "2rZELAowXQHj"
      },
      "source": [
        ""
      ],
      "execution_count": null,
      "outputs": []
    },
    {
      "cell_type": "markdown",
      "metadata": {
        "id": "Pj3_ssNtWvvl"
      },
      "source": [
        ""
      ]
    },
    {
      "cell_type": "markdown",
      "metadata": {
        "id": "9QFP5r4u-6GT"
      },
      "source": [
        "#Selecting top 10 residues with highest degree values"
      ]
    },
    {
      "cell_type": "code",
      "metadata": {
        "colab": {
          "base_uri": "https://localhost:8080/",
          "height": 363
        },
        "id": "I6OVXrCoU2gy",
        "outputId": "99ccc2d6-cf55-4601-c23f-d959d417d1b4"
      },
      "source": [
        "\n",
        "data_Degree = data[[\"Residue\",\"Degree\"]]\n",
        "data_top_10_highDegree = data_Degree.nlargest(10,[\"Degree\"])\n",
        "data_top_10_highDegree\n",
        "\n"
      ],
      "execution_count": 18,
      "outputs": [
        {
          "output_type": "execute_result",
          "data": {
            "text/html": [
              "<div>\n",
              "<style scoped>\n",
              "    .dataframe tbody tr th:only-of-type {\n",
              "        vertical-align: middle;\n",
              "    }\n",
              "\n",
              "    .dataframe tbody tr th {\n",
              "        vertical-align: top;\n",
              "    }\n",
              "\n",
              "    .dataframe thead th {\n",
              "        text-align: right;\n",
              "    }\n",
              "</style>\n",
              "<table border=\"1\" class=\"dataframe\">\n",
              "  <thead>\n",
              "    <tr style=\"text-align: right;\">\n",
              "      <th></th>\n",
              "      <th>Residue</th>\n",
              "      <th>Degree</th>\n",
              "    </tr>\n",
              "  </thead>\n",
              "  <tbody>\n",
              "    <tr>\n",
              "      <th>117</th>\n",
              "      <td>ARG126</td>\n",
              "      <td>26</td>\n",
              "    </tr>\n",
              "    <tr>\n",
              "      <th>223</th>\n",
              "      <td>ARG232</td>\n",
              "      <td>19</td>\n",
              "    </tr>\n",
              "    <tr>\n",
              "      <th>284</th>\n",
              "      <td>TYR293</td>\n",
              "      <td>19</td>\n",
              "    </tr>\n",
              "    <tr>\n",
              "      <th>200</th>\n",
              "      <td>GLU209</td>\n",
              "      <td>18</td>\n",
              "    </tr>\n",
              "    <tr>\n",
              "      <th>144</th>\n",
              "      <td>ARG153</td>\n",
              "      <td>17</td>\n",
              "    </tr>\n",
              "    <tr>\n",
              "      <th>32</th>\n",
              "      <td>GLU41</td>\n",
              "      <td>16</td>\n",
              "    </tr>\n",
              "    <tr>\n",
              "      <th>123</th>\n",
              "      <td>TYR132</td>\n",
              "      <td>16</td>\n",
              "    </tr>\n",
              "    <tr>\n",
              "      <th>203</th>\n",
              "      <td>ARG212</td>\n",
              "      <td>16</td>\n",
              "    </tr>\n",
              "    <tr>\n",
              "      <th>371</th>\n",
              "      <td>GLU380</td>\n",
              "      <td>16</td>\n",
              "    </tr>\n",
              "    <tr>\n",
              "      <th>391</th>\n",
              "      <td>ARG400</td>\n",
              "      <td>16</td>\n",
              "    </tr>\n",
              "  </tbody>\n",
              "</table>\n",
              "</div>"
            ],
            "text/plain": [
              "    Residue  Degree\n",
              "117  ARG126      26\n",
              "223  ARG232      19\n",
              "284  TYR293      19\n",
              "200  GLU209      18\n",
              "144  ARG153      17\n",
              "32    GLU41      16\n",
              "123  TYR132      16\n",
              "203  ARG212      16\n",
              "371  GLU380      16\n",
              "391  ARG400      16"
            ]
          },
          "metadata": {},
          "execution_count": 18
        }
      ]
    },
    {
      "cell_type": "markdown",
      "metadata": {
        "id": "kN2WQpzJ_Hxb"
      },
      "source": [
        "#creating a panda dataframe for all sites"
      ]
    },
    {
      "cell_type": "markdown",
      "metadata": {
        "id": "5iwDRO_K_tFA"
      },
      "source": [
        "Creating array for all sites"
      ]
    },
    {
      "cell_type": "code",
      "metadata": {
        "id": "jU59ayOshHoD"
      },
      "source": [
        "array1 = ['ARG93', 'ASN94','ARG223','ARG218','GLU209']\n",
        "array2 = [\"ARG334\",\"ARG333\",\"ARG330\",\"GLU454\",\"THR455\"]\n",
        "array3 = [\"PARG153\",\"ARG400\",\"LYS256\",\"MET142\",\"ARG92\",\"GLN88\",\"GLU146\",\"ARG212\",\"LYS213\",\"TYR143\"]\n",
        "array4 = [\"SER248\",\"ASN217\",\"ARG253\",\"ILE216\"]\n",
        "array5 = [\"GLU209\",\"ARG223\",\"LYS230\",\"ARG11\"]"
      ],
      "execution_count": 9,
      "outputs": []
    },
    {
      "cell_type": "code",
      "metadata": {
        "colab": {
          "base_uri": "https://localhost:8080/",
          "height": 206
        },
        "id": "7c0aBNGOtjE2",
        "outputId": "c2e3549c-c9b6-4459-ae2a-982aa93f6d57"
      },
      "source": [
        "site1 = data.loc[data[\"Residue\"].isin(array1)]\n",
        "site1"
      ],
      "execution_count": 53,
      "outputs": [
        {
          "output_type": "execute_result",
          "data": {
            "text/html": [
              "<div>\n",
              "<style scoped>\n",
              "    .dataframe tbody tr th:only-of-type {\n",
              "        vertical-align: middle;\n",
              "    }\n",
              "\n",
              "    .dataframe tbody tr th {\n",
              "        vertical-align: top;\n",
              "    }\n",
              "\n",
              "    .dataframe thead th {\n",
              "        text-align: right;\n",
              "    }\n",
              "</style>\n",
              "<table border=\"1\" class=\"dataframe\">\n",
              "  <thead>\n",
              "    <tr style=\"text-align: right;\">\n",
              "      <th></th>\n",
              "      <th>Residue</th>\n",
              "      <th>Degree</th>\n",
              "      <th>Betweenness-centrality</th>\n",
              "      <th>Closeness-centrality</th>\n",
              "    </tr>\n",
              "  </thead>\n",
              "  <tbody>\n",
              "    <tr>\n",
              "      <th>84</th>\n",
              "      <td>ARG93</td>\n",
              "      <td>13</td>\n",
              "      <td>0.042479</td>\n",
              "      <td>0.249438</td>\n",
              "    </tr>\n",
              "    <tr>\n",
              "      <th>85</th>\n",
              "      <td>ASN94</td>\n",
              "      <td>9</td>\n",
              "      <td>0.001674</td>\n",
              "      <td>0.227553</td>\n",
              "    </tr>\n",
              "    <tr>\n",
              "      <th>200</th>\n",
              "      <td>GLU209</td>\n",
              "      <td>18</td>\n",
              "      <td>0.029540</td>\n",
              "      <td>0.244679</td>\n",
              "    </tr>\n",
              "    <tr>\n",
              "      <th>209</th>\n",
              "      <td>ARG218</td>\n",
              "      <td>8</td>\n",
              "      <td>0.003444</td>\n",
              "      <td>0.208225</td>\n",
              "    </tr>\n",
              "    <tr>\n",
              "      <th>214</th>\n",
              "      <td>ARG223</td>\n",
              "      <td>11</td>\n",
              "      <td>0.009048</td>\n",
              "      <td>0.210607</td>\n",
              "    </tr>\n",
              "  </tbody>\n",
              "</table>\n",
              "</div>"
            ],
            "text/plain": [
              "    Residue  Degree  Betweenness-centrality  Closeness-centrality\n",
              "84    ARG93      13                0.042479              0.249438\n",
              "85    ASN94       9                0.001674              0.227553\n",
              "200  GLU209      18                0.029540              0.244679\n",
              "209  ARG218       8                0.003444              0.208225\n",
              "214  ARG223      11                0.009048              0.210607"
            ]
          },
          "metadata": {},
          "execution_count": 53
        }
      ]
    },
    {
      "cell_type": "code",
      "metadata": {
        "colab": {
          "base_uri": "https://localhost:8080/",
          "height": 206
        },
        "id": "pwswvKkNtnYt",
        "outputId": "001ed39e-ceb4-45d2-b24a-db6c336bcf9a"
      },
      "source": [
        "site2 = data.loc[data[\"Residue\"].isin(array2)]\n",
        "site2"
      ],
      "execution_count": 10,
      "outputs": [
        {
          "output_type": "execute_result",
          "data": {
            "text/html": [
              "<div>\n",
              "<style scoped>\n",
              "    .dataframe tbody tr th:only-of-type {\n",
              "        vertical-align: middle;\n",
              "    }\n",
              "\n",
              "    .dataframe tbody tr th {\n",
              "        vertical-align: top;\n",
              "    }\n",
              "\n",
              "    .dataframe thead th {\n",
              "        text-align: right;\n",
              "    }\n",
              "</style>\n",
              "<table border=\"1\" class=\"dataframe\">\n",
              "  <thead>\n",
              "    <tr style=\"text-align: right;\">\n",
              "      <th></th>\n",
              "      <th>Residue</th>\n",
              "      <th>Degree</th>\n",
              "      <th>Betweenness-centrality</th>\n",
              "      <th>Closeness-centrality</th>\n",
              "    </tr>\n",
              "  </thead>\n",
              "  <tbody>\n",
              "    <tr>\n",
              "      <th>321</th>\n",
              "      <td>ARG330</td>\n",
              "      <td>7</td>\n",
              "      <td>0.001237</td>\n",
              "      <td>0.221283</td>\n",
              "    </tr>\n",
              "    <tr>\n",
              "      <th>324</th>\n",
              "      <td>ARG333</td>\n",
              "      <td>15</td>\n",
              "      <td>0.062220</td>\n",
              "      <td>0.258297</td>\n",
              "    </tr>\n",
              "    <tr>\n",
              "      <th>325</th>\n",
              "      <td>ARG334</td>\n",
              "      <td>14</td>\n",
              "      <td>0.037370</td>\n",
              "      <td>0.235785</td>\n",
              "    </tr>\n",
              "    <tr>\n",
              "      <th>445</th>\n",
              "      <td>GLU454</td>\n",
              "      <td>5</td>\n",
              "      <td>0.003615</td>\n",
              "      <td>0.203604</td>\n",
              "    </tr>\n",
              "    <tr>\n",
              "      <th>446</th>\n",
              "      <td>THR455</td>\n",
              "      <td>8</td>\n",
              "      <td>0.000419</td>\n",
              "      <td>0.216248</td>\n",
              "    </tr>\n",
              "  </tbody>\n",
              "</table>\n",
              "</div>"
            ],
            "text/plain": [
              "    Residue  Degree  Betweenness-centrality  Closeness-centrality\n",
              "321  ARG330       7                0.001237              0.221283\n",
              "324  ARG333      15                0.062220              0.258297\n",
              "325  ARG334      14                0.037370              0.235785\n",
              "445  GLU454       5                0.003615              0.203604\n",
              "446  THR455       8                0.000419              0.216248"
            ]
          },
          "metadata": {},
          "execution_count": 10
        }
      ]
    },
    {
      "cell_type": "code",
      "metadata": {
        "colab": {
          "base_uri": "https://localhost:8080/",
          "height": 269
        },
        "id": "QvxVHGsstrie",
        "outputId": "f14d7f3e-4dd6-47a2-8fa4-c21a6a975c97"
      },
      "source": [
        "site3 = data.loc[data[\"Residue\"].isin(array3)]\n",
        "site3"
      ],
      "execution_count": 80,
      "outputs": [
        {
          "output_type": "execute_result",
          "data": {
            "text/html": [
              "<div>\n",
              "<style scoped>\n",
              "    .dataframe tbody tr th:only-of-type {\n",
              "        vertical-align: middle;\n",
              "    }\n",
              "\n",
              "    .dataframe tbody tr th {\n",
              "        vertical-align: top;\n",
              "    }\n",
              "\n",
              "    .dataframe thead th {\n",
              "        text-align: right;\n",
              "    }\n",
              "</style>\n",
              "<table border=\"1\" class=\"dataframe\">\n",
              "  <thead>\n",
              "    <tr style=\"text-align: right;\">\n",
              "      <th></th>\n",
              "      <th>Residue</th>\n",
              "      <th>Degree</th>\n",
              "      <th>Betweenness-centrality</th>\n",
              "      <th>Closeness-centrality</th>\n",
              "    </tr>\n",
              "  </thead>\n",
              "  <tbody>\n",
              "    <tr>\n",
              "      <th>83</th>\n",
              "      <td>ARG92</td>\n",
              "      <td>10</td>\n",
              "      <td>0.047940</td>\n",
              "      <td>0.275306</td>\n",
              "    </tr>\n",
              "    <tr>\n",
              "      <th>133</th>\n",
              "      <td>MET142</td>\n",
              "      <td>11</td>\n",
              "      <td>0.019684</td>\n",
              "      <td>0.274287</td>\n",
              "    </tr>\n",
              "    <tr>\n",
              "      <th>134</th>\n",
              "      <td>TYR143</td>\n",
              "      <td>10</td>\n",
              "      <td>0.011226</td>\n",
              "      <td>0.258578</td>\n",
              "    </tr>\n",
              "    <tr>\n",
              "      <th>137</th>\n",
              "      <td>GLU146</td>\n",
              "      <td>15</td>\n",
              "      <td>0.063523</td>\n",
              "      <td>0.275213</td>\n",
              "    </tr>\n",
              "    <tr>\n",
              "      <th>203</th>\n",
              "      <td>ARG212</td>\n",
              "      <td>19</td>\n",
              "      <td>0.035876</td>\n",
              "      <td>0.256500</td>\n",
              "    </tr>\n",
              "    <tr>\n",
              "      <th>247</th>\n",
              "      <td>LYS256</td>\n",
              "      <td>4</td>\n",
              "      <td>0.012872</td>\n",
              "      <td>0.233594</td>\n",
              "    </tr>\n",
              "    <tr>\n",
              "      <th>391</th>\n",
              "      <td>ARG400</td>\n",
              "      <td>17</td>\n",
              "      <td>0.093301</td>\n",
              "      <td>0.287525</td>\n",
              "    </tr>\n",
              "  </tbody>\n",
              "</table>\n",
              "</div>"
            ],
            "text/plain": [
              "    Residue  Degree  Betweenness-centrality  Closeness-centrality\n",
              "83    ARG92      10                0.047940              0.275306\n",
              "133  MET142      11                0.019684              0.274287\n",
              "134  TYR143      10                0.011226              0.258578\n",
              "137  GLU146      15                0.063523              0.275213\n",
              "203  ARG212      19                0.035876              0.256500\n",
              "247  LYS256       4                0.012872              0.233594\n",
              "391  ARG400      17                0.093301              0.287525"
            ]
          },
          "metadata": {},
          "execution_count": 80
        }
      ]
    },
    {
      "cell_type": "code",
      "metadata": {
        "colab": {
          "base_uri": "https://localhost:8080/",
          "height": 175
        },
        "id": "fESI4-VDtuuf",
        "outputId": "c8f12015-1a37-471f-e984-3a2378d7ae67"
      },
      "source": [
        "site4 = data.loc[data[\"Residue\"].isin(array4)]\n",
        "site4"
      ],
      "execution_count": 77,
      "outputs": [
        {
          "output_type": "execute_result",
          "data": {
            "text/html": [
              "<div>\n",
              "<style scoped>\n",
              "    .dataframe tbody tr th:only-of-type {\n",
              "        vertical-align: middle;\n",
              "    }\n",
              "\n",
              "    .dataframe tbody tr th {\n",
              "        vertical-align: top;\n",
              "    }\n",
              "\n",
              "    .dataframe thead th {\n",
              "        text-align: right;\n",
              "    }\n",
              "</style>\n",
              "<table border=\"1\" class=\"dataframe\">\n",
              "  <thead>\n",
              "    <tr style=\"text-align: right;\">\n",
              "      <th></th>\n",
              "      <th>Residue</th>\n",
              "      <th>Degree</th>\n",
              "      <th>Betweenness-centrality</th>\n",
              "      <th>Closeness-centrality</th>\n",
              "    </tr>\n",
              "  </thead>\n",
              "  <tbody>\n",
              "    <tr>\n",
              "      <th>207</th>\n",
              "      <td>ILE216</td>\n",
              "      <td>12</td>\n",
              "      <td>0.002198</td>\n",
              "      <td>0.234435</td>\n",
              "    </tr>\n",
              "    <tr>\n",
              "      <th>208</th>\n",
              "      <td>ASN217</td>\n",
              "      <td>9</td>\n",
              "      <td>0.010855</td>\n",
              "      <td>0.235384</td>\n",
              "    </tr>\n",
              "    <tr>\n",
              "      <th>239</th>\n",
              "      <td>SER248</td>\n",
              "      <td>10</td>\n",
              "      <td>0.001313</td>\n",
              "      <td>0.220705</td>\n",
              "    </tr>\n",
              "    <tr>\n",
              "      <th>244</th>\n",
              "      <td>ARG253</td>\n",
              "      <td>10</td>\n",
              "      <td>0.003044</td>\n",
              "      <td>0.247332</td>\n",
              "    </tr>\n",
              "  </tbody>\n",
              "</table>\n",
              "</div>"
            ],
            "text/plain": [
              "    Residue  Degree  Betweenness-centrality  Closeness-centrality\n",
              "207  ILE216      12                0.002198              0.234435\n",
              "208  ASN217       9                0.010855              0.235384\n",
              "239  SER248      10                0.001313              0.220705\n",
              "244  ARG253      10                0.003044              0.247332"
            ]
          },
          "metadata": {},
          "execution_count": 77
        }
      ]
    },
    {
      "cell_type": "code",
      "metadata": {
        "colab": {
          "base_uri": "https://localhost:8080/",
          "height": 175
        },
        "id": "trXFcPKDtyOs",
        "outputId": "03099f40-9e30-416c-8a04-3f496056a09b"
      },
      "source": [
        "site5 = data.loc[data[\"Residue\"].isin(array5)]\n",
        "site5"
      ],
      "execution_count": 72,
      "outputs": [
        {
          "output_type": "execute_result",
          "data": {
            "text/html": [
              "<div>\n",
              "<style scoped>\n",
              "    .dataframe tbody tr th:only-of-type {\n",
              "        vertical-align: middle;\n",
              "    }\n",
              "\n",
              "    .dataframe tbody tr th {\n",
              "        vertical-align: top;\n",
              "    }\n",
              "\n",
              "    .dataframe thead th {\n",
              "        text-align: right;\n",
              "    }\n",
              "</style>\n",
              "<table border=\"1\" class=\"dataframe\">\n",
              "  <thead>\n",
              "    <tr style=\"text-align: right;\">\n",
              "      <th></th>\n",
              "      <th>Residue</th>\n",
              "      <th>Degree</th>\n",
              "      <th>Betweenness-centrality</th>\n",
              "      <th>Closeness-centrality</th>\n",
              "    </tr>\n",
              "  </thead>\n",
              "  <tbody>\n",
              "    <tr>\n",
              "      <th>2</th>\n",
              "      <td>ARG11</td>\n",
              "      <td>9</td>\n",
              "      <td>0.009323</td>\n",
              "      <td>0.215805</td>\n",
              "    </tr>\n",
              "    <tr>\n",
              "      <th>200</th>\n",
              "      <td>GLU209</td>\n",
              "      <td>16</td>\n",
              "      <td>0.029417</td>\n",
              "      <td>0.268099</td>\n",
              "    </tr>\n",
              "    <tr>\n",
              "      <th>214</th>\n",
              "      <td>ARG223</td>\n",
              "      <td>14</td>\n",
              "      <td>0.007649</td>\n",
              "      <td>0.220605</td>\n",
              "    </tr>\n",
              "    <tr>\n",
              "      <th>221</th>\n",
              "      <td>LYS230</td>\n",
              "      <td>9</td>\n",
              "      <td>0.003425</td>\n",
              "      <td>0.202394</td>\n",
              "    </tr>\n",
              "  </tbody>\n",
              "</table>\n",
              "</div>"
            ],
            "text/plain": [
              "    Residue  Degree  Betweenness-centrality  Closeness-centrality\n",
              "2     ARG11       9                0.009323              0.215805\n",
              "200  GLU209      16                0.029417              0.268099\n",
              "214  ARG223      14                0.007649              0.220605\n",
              "221  LYS230       9                0.003425              0.202394"
            ]
          },
          "metadata": {},
          "execution_count": 72
        }
      ]
    },
    {
      "cell_type": "code",
      "metadata": {
        "id": "e3LkRGV-_-pY"
      },
      "source": [
        ""
      ],
      "execution_count": null,
      "outputs": []
    },
    {
      "cell_type": "markdown",
      "metadata": {
        "id": "ML_TwaBBAAYP"
      },
      "source": [
        "#Printing the top 10 residues with the highest BC"
      ]
    },
    {
      "cell_type": "code",
      "metadata": {
        "id": "1eQTdqNw_-Zu"
      },
      "source": [
        ""
      ],
      "execution_count": null,
      "outputs": []
    },
    {
      "cell_type": "code",
      "metadata": {
        "colab": {
          "base_uri": "https://localhost:8080/",
          "height": 363
        },
        "id": "MxkQ38ibmd6X",
        "outputId": "6b4fd66b-1de9-46fe-f5e3-54bfa50c1a30"
      },
      "source": [
        "#selecting the top 10 highest values in columb BC\n",
        "\n",
        "data_BC = data[[\"Residue\",\"Betweenness-centrality\"]]\n",
        "data_BC\n",
        "data_top_10_highBC = data_BC.nlargest(10,[\"Betweenness-centrality\"])\n",
        "data_top_10_highBC\n",
        "\n"
      ],
      "execution_count": null,
      "outputs": [
        {
          "output_type": "execute_result",
          "data": {
            "text/html": [
              "<div>\n",
              "<style scoped>\n",
              "    .dataframe tbody tr th:only-of-type {\n",
              "        vertical-align: middle;\n",
              "    }\n",
              "\n",
              "    .dataframe tbody tr th {\n",
              "        vertical-align: top;\n",
              "    }\n",
              "\n",
              "    .dataframe thead th {\n",
              "        text-align: right;\n",
              "    }\n",
              "</style>\n",
              "<table border=\"1\" class=\"dataframe\">\n",
              "  <thead>\n",
              "    <tr style=\"text-align: right;\">\n",
              "      <th></th>\n",
              "      <th>Residue</th>\n",
              "      <th>Betweenness-centrality</th>\n",
              "    </tr>\n",
              "  </thead>\n",
              "  <tbody>\n",
              "    <tr>\n",
              "      <th>117</th>\n",
              "      <td>PARG126</td>\n",
              "      <td>0.119769</td>\n",
              "    </tr>\n",
              "    <tr>\n",
              "      <th>137</th>\n",
              "      <td>PGLU146</td>\n",
              "      <td>0.101769</td>\n",
              "    </tr>\n",
              "    <tr>\n",
              "      <th>144</th>\n",
              "      <td>PARG153</td>\n",
              "      <td>0.099352</td>\n",
              "    </tr>\n",
              "    <tr>\n",
              "      <th>391</th>\n",
              "      <td>PARG400</td>\n",
              "      <td>0.090209</td>\n",
              "    </tr>\n",
              "    <tr>\n",
              "      <th>384</th>\n",
              "      <td>PGLU393</td>\n",
              "      <td>0.087517</td>\n",
              "    </tr>\n",
              "    <tr>\n",
              "      <th>324</th>\n",
              "      <td>PARG333</td>\n",
              "      <td>0.080933</td>\n",
              "    </tr>\n",
              "    <tr>\n",
              "      <th>371</th>\n",
              "      <td>PGLU380</td>\n",
              "      <td>0.071667</td>\n",
              "    </tr>\n",
              "    <tr>\n",
              "      <th>406</th>\n",
              "      <td>PASN415</td>\n",
              "      <td>0.066596</td>\n",
              "    </tr>\n",
              "    <tr>\n",
              "      <th>238</th>\n",
              "      <td>PGLU247</td>\n",
              "      <td>0.057463</td>\n",
              "    </tr>\n",
              "    <tr>\n",
              "      <th>403</th>\n",
              "      <td>PTRP412</td>\n",
              "      <td>0.055256</td>\n",
              "    </tr>\n",
              "  </tbody>\n",
              "</table>\n",
              "</div>"
            ],
            "text/plain": [
              "     Residue  Betweenness-centrality\n",
              "117  PARG126                0.119769\n",
              "137  PGLU146                0.101769\n",
              "144  PARG153                0.099352\n",
              "391  PARG400                0.090209\n",
              "384  PGLU393                0.087517\n",
              "324  PARG333                0.080933\n",
              "371  PGLU380                0.071667\n",
              "406  PASN415                0.066596\n",
              "238  PGLU247                0.057463\n",
              "403  PTRP412                0.055256"
            ]
          },
          "metadata": {},
          "execution_count": 22
        }
      ]
    },
    {
      "cell_type": "code",
      "metadata": {
        "id": "fXCTT35wwwXt"
      },
      "source": [
        ""
      ],
      "execution_count": null,
      "outputs": []
    },
    {
      "cell_type": "markdown",
      "metadata": {
        "id": "CJzy-Tw5ANjl"
      },
      "source": [
        ""
      ]
    },
    {
      "cell_type": "markdown",
      "metadata": {
        "id": "fq7SkGaPAR1N"
      },
      "source": [
        "#Printing the top 10 residues with the highest CC"
      ]
    },
    {
      "cell_type": "code",
      "metadata": {
        "colab": {
          "base_uri": "https://localhost:8080/",
          "height": 363
        },
        "id": "f9IPwW-UogrG",
        "outputId": "6afeba6b-64f3-474c-ad35-d82b70c44897"
      },
      "source": [
        "data_CC = data[[\"Residue\",\"Closeness-centrality\"]]\n",
        "data_top_10_highCC = data_CC.nlargest(10,[\"Closeness-centrality\"])\n",
        "data_top_10_highCC"
      ],
      "execution_count": null,
      "outputs": [
        {
          "output_type": "execute_result",
          "data": {
            "text/html": [
              "<div>\n",
              "<style scoped>\n",
              "    .dataframe tbody tr th:only-of-type {\n",
              "        vertical-align: middle;\n",
              "    }\n",
              "\n",
              "    .dataframe tbody tr th {\n",
              "        vertical-align: top;\n",
              "    }\n",
              "\n",
              "    .dataframe thead th {\n",
              "        text-align: right;\n",
              "    }\n",
              "</style>\n",
              "<table border=\"1\" class=\"dataframe\">\n",
              "  <thead>\n",
              "    <tr style=\"text-align: right;\">\n",
              "      <th></th>\n",
              "      <th>Residue</th>\n",
              "      <th>Closeness-centrality</th>\n",
              "    </tr>\n",
              "  </thead>\n",
              "  <tbody>\n",
              "    <tr>\n",
              "      <th>17</th>\n",
              "      <td>PPHE26</td>\n",
              "      <td>0.297294</td>\n",
              "    </tr>\n",
              "    <tr>\n",
              "      <th>117</th>\n",
              "      <td>PARG126</td>\n",
              "      <td>0.295473</td>\n",
              "    </tr>\n",
              "    <tr>\n",
              "      <th>403</th>\n",
              "      <td>PTRP412</td>\n",
              "      <td>0.292356</td>\n",
              "    </tr>\n",
              "    <tr>\n",
              "      <th>379</th>\n",
              "      <td>PTRP388</td>\n",
              "      <td>0.289926</td>\n",
              "    </tr>\n",
              "    <tr>\n",
              "      <th>402</th>\n",
              "      <td>PASN411</td>\n",
              "      <td>0.289594</td>\n",
              "    </tr>\n",
              "    <tr>\n",
              "      <th>270</th>\n",
              "      <td>PGLN279</td>\n",
              "      <td>0.288314</td>\n",
              "    </tr>\n",
              "    <tr>\n",
              "      <th>124</th>\n",
              "      <td>PCYS133</td>\n",
              "      <td>0.285869</td>\n",
              "    </tr>\n",
              "    <tr>\n",
              "      <th>371</th>\n",
              "      <td>PGLU380</td>\n",
              "      <td>0.285724</td>\n",
              "    </tr>\n",
              "    <tr>\n",
              "      <th>155</th>\n",
              "      <td>PILE164</td>\n",
              "      <td>0.285691</td>\n",
              "    </tr>\n",
              "    <tr>\n",
              "      <th>273</th>\n",
              "      <td>PGLN282</td>\n",
              "      <td>0.285069</td>\n",
              "    </tr>\n",
              "  </tbody>\n",
              "</table>\n",
              "</div>"
            ],
            "text/plain": [
              "     Residue  Closeness-centrality\n",
              "17    PPHE26              0.297294\n",
              "117  PARG126              0.295473\n",
              "403  PTRP412              0.292356\n",
              "379  PTRP388              0.289926\n",
              "402  PASN411              0.289594\n",
              "270  PGLN279              0.288314\n",
              "124  PCYS133              0.285869\n",
              "371  PGLU380              0.285724\n",
              "155  PILE164              0.285691\n",
              "273  PGLN282              0.285069"
            ]
          },
          "metadata": {},
          "execution_count": 19
        }
      ]
    },
    {
      "cell_type": "markdown",
      "metadata": {
        "id": "G-A0I2oMAmUH"
      },
      "source": [
        "A function that return the top n residues with highest BC and CC values"
      ]
    },
    {
      "cell_type": "code",
      "metadata": {
        "id": "jElThIEzopAt"
      },
      "source": [
        "#selecting the top 10 highest values in both column BC and CC\n",
        "def top_n_highest_BC_AND_CC(data,n):\n",
        "  top10_BC_AND_CC  = data.nlargest(n,[\"Betweenness-centrality\",\"Closeness-centrality\"])\n",
        "  return top10_BC_AND_CC\n",
        "\n",
        "\n"
      ],
      "execution_count": 11,
      "outputs": []
    },
    {
      "cell_type": "code",
      "metadata": {
        "colab": {
          "base_uri": "https://localhost:8080/",
          "height": 363
        },
        "id": "wWGVFOCGBczm",
        "outputId": "89cc1c46-a4d9-4388-bfd5-d9eb1ffb5c07"
      },
      "source": [
        "top10_BC_CC = top_n_highest_BC_AND_CC(data, 10)\n",
        "top10_BC_CC"
      ],
      "execution_count": 12,
      "outputs": [
        {
          "output_type": "execute_result",
          "data": {
            "text/html": [
              "<div>\n",
              "<style scoped>\n",
              "    .dataframe tbody tr th:only-of-type {\n",
              "        vertical-align: middle;\n",
              "    }\n",
              "\n",
              "    .dataframe tbody tr th {\n",
              "        vertical-align: top;\n",
              "    }\n",
              "\n",
              "    .dataframe thead th {\n",
              "        text-align: right;\n",
              "    }\n",
              "</style>\n",
              "<table border=\"1\" class=\"dataframe\">\n",
              "  <thead>\n",
              "    <tr style=\"text-align: right;\">\n",
              "      <th></th>\n",
              "      <th>Residue</th>\n",
              "      <th>Degree</th>\n",
              "      <th>Betweenness-centrality</th>\n",
              "      <th>Closeness-centrality</th>\n",
              "    </tr>\n",
              "  </thead>\n",
              "  <tbody>\n",
              "    <tr>\n",
              "      <th>144</th>\n",
              "      <td>ARG153</td>\n",
              "      <td>22</td>\n",
              "      <td>0.121595</td>\n",
              "      <td>0.282104</td>\n",
              "    </tr>\n",
              "    <tr>\n",
              "      <th>137</th>\n",
              "      <td>GLU146</td>\n",
              "      <td>15</td>\n",
              "      <td>0.093901</td>\n",
              "      <td>0.283940</td>\n",
              "    </tr>\n",
              "    <tr>\n",
              "      <th>391</th>\n",
              "      <td>ARG400</td>\n",
              "      <td>16</td>\n",
              "      <td>0.080439</td>\n",
              "      <td>0.283458</td>\n",
              "    </tr>\n",
              "    <tr>\n",
              "      <th>117</th>\n",
              "      <td>ARG126</td>\n",
              "      <td>22</td>\n",
              "      <td>0.077765</td>\n",
              "      <td>0.272221</td>\n",
              "    </tr>\n",
              "    <tr>\n",
              "      <th>384</th>\n",
              "      <td>GLU393</td>\n",
              "      <td>11</td>\n",
              "      <td>0.073427</td>\n",
              "      <td>0.260677</td>\n",
              "    </tr>\n",
              "    <tr>\n",
              "      <th>371</th>\n",
              "      <td>GLU380</td>\n",
              "      <td>15</td>\n",
              "      <td>0.070345</td>\n",
              "      <td>0.268920</td>\n",
              "    </tr>\n",
              "    <tr>\n",
              "      <th>324</th>\n",
              "      <td>ARG333</td>\n",
              "      <td>15</td>\n",
              "      <td>0.062220</td>\n",
              "      <td>0.258297</td>\n",
              "    </tr>\n",
              "    <tr>\n",
              "      <th>403</th>\n",
              "      <td>TRP412</td>\n",
              "      <td>18</td>\n",
              "      <td>0.061402</td>\n",
              "      <td>0.283014</td>\n",
              "    </tr>\n",
              "    <tr>\n",
              "      <th>291</th>\n",
              "      <td>LYS300</td>\n",
              "      <td>10</td>\n",
              "      <td>0.056445</td>\n",
              "      <td>0.242428</td>\n",
              "    </tr>\n",
              "    <tr>\n",
              "      <th>83</th>\n",
              "      <td>ARG92</td>\n",
              "      <td>11</td>\n",
              "      <td>0.051079</td>\n",
              "      <td>0.268639</td>\n",
              "    </tr>\n",
              "  </tbody>\n",
              "</table>\n",
              "</div>"
            ],
            "text/plain": [
              "    Residue  Degree  Betweenness-centrality  Closeness-centrality\n",
              "144  ARG153      22                0.121595              0.282104\n",
              "137  GLU146      15                0.093901              0.283940\n",
              "391  ARG400      16                0.080439              0.283458\n",
              "117  ARG126      22                0.077765              0.272221\n",
              "384  GLU393      11                0.073427              0.260677\n",
              "371  GLU380      15                0.070345              0.268920\n",
              "324  ARG333      15                0.062220              0.258297\n",
              "403  TRP412      18                0.061402              0.283014\n",
              "291  LYS300      10                0.056445              0.242428\n",
              "83    ARG92      11                0.051079              0.268639"
            ]
          },
          "metadata": {},
          "execution_count": 12
        }
      ]
    },
    {
      "cell_type": "markdown",
      "metadata": {
        "id": "dzeadmLODkAP"
      },
      "source": [
        "#Barplot of selected data"
      ]
    },
    {
      "cell_type": "code",
      "metadata": {
        "id": "xS63BYoiqbaU"
      },
      "source": [
        "def plot_bar(data, graph_tile, image_title):\n",
        "  data.reset_index().plot(x = \"Residue\",y = [\"Betweenness-centrality\",\"Closeness-centrality\"],kind = \"bar\", figsize = (15, 10), rot = 0).get_figure()\n",
        "  font = {'family' : 'normal','weight' : 'bold','size' : 14}\n",
        "  plt.rc('font', **font)\n",
        "  plt.title(graph_tile)\n",
        "  plt.ylabel(\"values\")\n",
        "  plt.savefig(image_title)\n",
        "\n",
        "\n",
        "\n",
        "\n"
      ],
      "execution_count": 13,
      "outputs": []
    },
    {
      "cell_type": "code",
      "metadata": {
        "colab": {
          "base_uri": "https://localhost:8080/",
          "height": 625
        },
        "id": "-AYK6rgmqWPv",
        "outputId": "dc8043c4-3fce-43c4-859d-bb3cee51c6e1"
      },
      "source": [
        "plot_bar(top10_BC_CC,\"BC et CC pour Cl 97\",\"cl97.png\")"
      ],
      "execution_count": 14,
      "outputs": [
        {
          "output_type": "display_data",
          "data": {
            "image/png": "[encoded data removed]",
            "text/plain": [
              "<Figure size 1080x720 with 1 Axes>"
            ]
          },
          "metadata": {
            "needs_background": "light"
          }
        }
      ]
    },
    {
      "cell_type": "code",
      "metadata": {
        "id": "mKpvMPBcqtcL",
        "colab": {
          "base_uri": "https://localhost:8080/",
          "height": 634
        },
        "outputId": "414fbb04-0f24-433b-fbaf-69881ba1d343"
      },
      "source": [
        "plot_bar(site3,\"BC et CC du chlore 78 au site 3\",\"site3_cl78.png\")"
      ],
      "execution_count": 81,
      "outputs": [
        {
          "output_type": "display_data",
          "data": {
            "image/png": "[encoded data removed]",
            "text/plain": [
              "<Figure size 1080x720 with 1 Axes>"
            ]
          },
          "metadata": {
            "needs_background": "light"
          }
        }
      ]
    },
    {
      "cell_type": "markdown",
      "metadata": {
        "id": "2WdtxgSVZJRs"
      },
      "source": [
        "#Visualizing the networks"
      ]
    },
    {
      "cell_type": "code",
      "metadata": {
        "id": "XER31mqKZPzU"
      },
      "source": [
        "data_Graph = nx.from_pandas_edgelist(top10_BC_CC ,\"Betweenness-centrality\",\"Residue\" )\n",
        "nx.draw(data_Graph)"
      ],
      "execution_count": null,
      "outputs": []
    }
  ]
}